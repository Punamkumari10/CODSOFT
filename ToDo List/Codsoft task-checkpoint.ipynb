{
 "cells": [
  {
   "cell_type": "code",
   "execution_count": 2,
   "id": "9c812b55-b8fc-461b-a631-6523145686a4",
   "metadata": {},
   "outputs": [],
   "source": [
    "import tkinter as tk\n",
    "from tkinter import messagebox\n",
    "\n",
    "def add_task():\n",
    "    task = entry.get()\n",
    "    if task:\n",
    "        listbox.insert(tk.END, task)\n",
    "        entry.delete(0, tk.END)\n",
    "    else:\n",
    "        messagebox.showwarning(\"Warning\", \"Please enter a task.\")\n",
    "\n",
    "def remove_task():\n",
    "    selected_task_index = listbox.curselection()\n",
    "    if selected_task_index:\n",
    "        listbox.delete(selected_task_index)\n",
    "    else:\n",
    "        messagebox.showwarning(\"Warning\", \"Please select a task to remove.\")\n",
    "\n",
    "def clear_tasks():\n",
    "    listbox.delete(0, tk.END)\n",
    "\n",
    "def exit_app():\n",
    "    window.destroy()\n",
    "\n",
    "# Create the main window\n",
    "window = tk.Tk()\n",
    "window.title(\"To-Do List App\")\n",
    "\n",
    "# Create and place widgets\n",
    "window1 = tk.Label(text=\"ToDo List\",pady=50,padx=110,font=(\"MS Serif\",25),background=\"blue\",foreground=\"white\")\n",
    "window1.pack()\n",
    "\n",
    "entry = tk.Entry(window, width=50)\n",
    "entry.pack(pady=10)\n",
    "\n",
    "add_button = tk.Button(window, text=\"Add Task\", command=add_task)\n",
    "add_button.pack()\n",
    "\n",
    "remove_button = tk.Button(window, text=\"Remove Task\", command=remove_task)\n",
    "remove_button.pack()\n",
    "\n",
    "clear_button = tk.Button(window, text=\"Clear All Tasks\", command=clear_tasks)\n",
    "clear_button.pack()\n",
    "\n",
    "listbox = tk.Listbox(window, width=40)\n",
    "listbox.pack()\n",
    "\n",
    "exit_button = tk.Button(window, text=\"Exit\", command=exit_app)\n",
    "exit_button.pack()\n",
    "\n",
    "# Run the main loop\n",
    "window.mainloop()"
   ]
  },
  {
   "cell_type": "code",
   "execution_count": null,
   "id": "05a60043-a408-4eea-a63f-09e28ade6c9d",
   "metadata": {},
   "outputs": [],
   "source": []
  }
 ],
 "metadata": {
  "kernelspec": {
   "display_name": "Python 3 (ipykernel)",
   "language": "python",
   "name": "python3"
  },
  "language_info": {
   "codemirror_mode": {
    "name": "ipython",
    "version": 3
   },
   "file_extension": ".py",
   "mimetype": "text/x-python",
   "name": "python",
   "nbconvert_exporter": "python",
   "pygments_lexer": "ipython3",
   "version": "3.11.4"
  }
 },
 "nbformat": 4,
 "nbformat_minor": 5
}
